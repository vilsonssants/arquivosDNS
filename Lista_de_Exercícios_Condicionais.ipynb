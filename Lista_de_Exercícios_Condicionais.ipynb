{
  "nbformat": 4,
  "nbformat_minor": 0,
  "metadata": {
    "colab": {
      "provenance": [],
      "authorship_tag": "ABX9TyO6HkjcMmBmAjqL+wVgjpWf",
      "include_colab_link": true
    },
    "kernelspec": {
      "name": "python3",
      "display_name": "Python 3"
    },
    "language_info": {
      "name": "python"
    }
  },
  "cells": [
    {
      "cell_type": "markdown",
      "metadata": {
        "id": "view-in-github",
        "colab_type": "text"
      },
      "source": [
        "<a href=\"https://colab.research.google.com/github/vilsonssants/arquivosDNS/blob/main/Lista_de_Exerc%C3%ADcios_Condicionais.ipynb\" target=\"_parent\"><img src=\"https://colab.research.google.com/assets/colab-badge.svg\" alt=\"Open In Colab\"/></a>"
      ]
    },
    {
      "cell_type": "code",
      "execution_count": null,
      "metadata": {
        "id": "VdzA77tRcKqF"
      },
      "outputs": [],
      "source": []
    },
    {
      "cell_type": "markdown",
      "source": [
        "1 - Seu primeiro desafio é desenvolver um programa para um depósito de\n",
        "bebidas que valide venda de bebidas para maiores de idade (maior ou\n",
        "igual 18 anos) no mercado, o programa deve receber do usuário os\n",
        "valores do nome e ano que ele nasceu e retornar se ele pode comprar\n",
        "bebidas.\n"
      ],
      "metadata": {
        "id": "ND8hdgoUcTA6"
      }
    },
    {
      "cell_type": "code",
      "source": [
        "\n",
        "nome_cliente = input('Informe o nome do cliente: ')\n",
        "ano_nascimento = int(input('Informe ano de nascimento: '))\n",
        "\n",
        "print(nome_cliente, ano_nascimento)\n",
        "\n",
        "idade = 2022 - ano_nascimento\n",
        "\n",
        "print(idade)\n",
        "\n",
        "if idade >= 18:\n",
        "  print('{} tem acima de 18 ano, pode comprar bebida '.format(nome_cliente))\n",
        "else:\n",
        "   print('{} tem não atingiu a maioridade, portanto não pode comprar bebida '.format(nome_cliente))\n",
        "   "
      ],
      "metadata": {
        "colab": {
          "base_uri": "https://localhost:8080/"
        },
        "id": "OzoJ-5xDceh1",
        "outputId": "5d545fda-655b-427b-e4b0-34a50d9535c5"
      },
      "execution_count": null,
      "outputs": [
        {
          "output_type": "stream",
          "name": "stdout",
          "text": [
            "Informe o nome do cliente: Vlson dos Santos\n",
            "Informe ano de nascimento: 1982\n",
            "Vlson dos Santos 1982\n",
            "40\n",
            "Vlson dos Santos tem acima de 18 ano, pode comprar bebida \n"
          ]
        }
      ]
    },
    {
      "cell_type": "markdown",
      "source": [
        "2 - Esse bimestre na faculdade você precisa tirar nota 8 de média para\n",
        "passar na matéria, desenvolva um script que leia a nota de suas\n",
        "últimas 3 provas, tire a média delas e verifique se você passou."
      ],
      "metadata": {
        "id": "-b8Vac8GgjAS"
      }
    },
    {
      "cell_type": "code",
      "source": [
        "nota1 = int(input('Nota 1: '))\n",
        "nota2 = int(input('Nota 2: '))\n",
        "nota3 = int(input('Nota 3: '))\n",
        "\n",
        "print(nota1, nota2, nota3)\n",
        "\n",
        "media = float((nota1+nota2+nota3) / 3)\n",
        "\n",
        "print(media)\n",
        "\n",
        "media_ideal = float(80)\n",
        "\n",
        "if media >= media_ideal:\n",
        "  print('você passou com média {}'.format(media_ideal))\n",
        "else:\n",
        "  print('você não atingiu a média idela que era de {}, atinguiu apeas {}, NÃO FOI APROVADO.'.format(media_ideal,media))  \n",
        "  "
      ],
      "metadata": {
        "colab": {
          "base_uri": "https://localhost:8080/"
        },
        "id": "RpbZf9BQgqk3",
        "outputId": "f40e8573-1e89-4ad9-bb93-cdb72b620ee7"
      },
      "execution_count": null,
      "outputs": [
        {
          "output_type": "stream",
          "name": "stdout",
          "text": [
            "Nota 1: 60\n",
            "Nota 2: 80\n",
            "Nota 3: 10\n",
            "60 80 10\n",
            "50.0\n",
            "você não atingiu a média idela que era de 80.0, atinguiu apeas 50.0, NÃO FOI APROVADO.\n"
          ]
        }
      ]
    },
    {
      "cell_type": "markdown",
      "source": [
        "3 - A fisioterapeuta que você vai gosta muito de brincar com números, e\n",
        "pediu para você criar um sistema que verifique se a altura inserida é\n",
        "par ou impar.\n"
      ],
      "metadata": {
        "id": "tNsxg2yPiQ5E"
      }
    },
    {
      "cell_type": "code",
      "source": [
        "numero = float(input('Digite a altura: '))\n",
        "resultado = numero%2\n",
        "print(resultado);\n",
        "resto = int(resultado)\n",
        "print(resto)\n",
        "\n",
        "if resto == 0:\n",
        "  print('O numero é par')\n",
        "else:\n",
        "  print('O numero é impar') "
      ],
      "metadata": {
        "colab": {
          "base_uri": "https://localhost:8080/"
        },
        "id": "VpuQ4DknillP",
        "outputId": "70f5d7b9-963e-4a8f-b921-de7d9c264b08"
      },
      "execution_count": null,
      "outputs": [
        {
          "output_type": "stream",
          "name": "stdout",
          "text": [
            "Digite a altura: 90\n",
            "0.0\n",
            "0\n",
            "O numero é par\n"
          ]
        }
      ]
    },
    {
      "cell_type": "markdown",
      "source": [
        "4 - Faça um script que você coloque a quantidade de dias e descubra em\n",
        "qual trimestre esse dia está no ano.\n"
      ],
      "metadata": {
        "id": "Jfw-P0srjCpD"
      }
    },
    {
      "cell_type": "code",
      "source": [
        "dias_ano = int(365)\n",
        "trimestre = int(dias_ano / 3)\n",
        "\n",
        "print(trimestre)\n",
        "fim_primeiro_trimestre = int(trimestre);\n",
        "fim_segundo_trimestre = int(fim_primeiro_trimestre + trimestre)\n",
        "fim_terceiro_trimestre = int(fim_segundo_trimestre + trimestre)\n",
        "\n",
        "print(fim_primeiro_trimestre,fim_segundo_trimestre,fim_terceiro_trimestre)\n",
        "\n",
        "dia_do_ano = int(input('Informe do dia do ano: '))\n",
        "\n",
        "if dia_do_ano <= fim_primeiro_trimestre:\n",
        "  print('O dia está no primeiro trimestre do ano.')\n",
        "elif (dia_do_ano > fim_primeiro_trimestre) and (dia_do_ano <= fim_segundo_trimestre):\n",
        "  print('O dia está no segundo trimestre do ano.')\n",
        "elif (dia_do_ano >fim_segundo_trimestre) and (dia_do_ano <= fim_terceiro_trimestre):\n",
        "  print('O dia está no terceiro trimestre do ano.')\n",
        "else:\n",
        "  print('Dia do ano não reconhecido.')  "
      ],
      "metadata": {
        "colab": {
          "base_uri": "https://localhost:8080/"
        },
        "id": "kLw6jma2jGda",
        "outputId": "f8bf66e7-557e-480b-cbe7-2981d12557d8"
      },
      "execution_count": null,
      "outputs": [
        {
          "output_type": "stream",
          "name": "stdout",
          "text": [
            "121\n",
            "121 242 363\n",
            "Informe do dia do ano: 300\n",
            "O dia está no terceiro trimestre do ano.\n"
          ]
        }
      ]
    },
    {
      "cell_type": "markdown",
      "source": [
        "5 - Desenvolva um sistema que leia 3 números e diga qual é o maior (se\n",
        "houver empate, exiba os empatados)."
      ],
      "metadata": {
        "id": "VddLbxqRmLIL"
      }
    },
    {
      "cell_type": "code",
      "source": [
        "num1 = int(input('Numero 1: '))\n",
        "num2 = int(input('Numero 2: '))\n",
        "num3 = int(input('Numero 3: '))\n",
        "\n",
        "if (num1 > num2) and (num1 > num3):\n",
        "  print('o numero {} é o maior.'.format(num1))\n",
        "elif (num2 > num1) and (num2 > num3):\n",
        "  print('o numero {} é o maior.'.format(num2))\n",
        "elif (num3 > num1) and (num3 > num2):\n",
        "  print('o numero {} é o maior.'.format(num3))\n",
        "elif (num1 == num2):\n",
        "  print ('o numero {} se repete, na posição 1 e posição 2'.format(num1))  \n",
        "elif (num1 == num3):\n",
        "  print('o numero {} se repete, na posição 1 e posição 3'.format(num1))  \n",
        "elif (num2 == num3):\n",
        "  print('o numero {} se repete, na posição 2 e posição 3'.format(num2))  \n",
        "else:\n",
        "  print('Que código loko!')  \n",
        "\n",
        "\n",
        "\n"
      ],
      "metadata": {
        "colab": {
          "base_uri": "https://localhost:8080/"
        },
        "id": "DEs9xxelmVef",
        "outputId": "24a53a5d-3e13-4d8b-d3d6-b836215fe3b6"
      },
      "execution_count": null,
      "outputs": [
        {
          "output_type": "stream",
          "name": "stdout",
          "text": [
            "Numero 1: 6\n",
            "Numero 2: 2\n",
            "Numero 3: 2\n",
            "o numero 6 é o maior.\n"
          ]
        }
      ]
    }
  ]
}